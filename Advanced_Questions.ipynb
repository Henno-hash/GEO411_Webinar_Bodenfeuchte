{
 "cells": [
  {
   "cell_type": "markdown",
   "id": "889048da",
   "metadata": {},
   "source": [
    "# Aufgaben für Expert*innen"
   ]
  },
  {
   "cell_type": "markdown",
   "id": "7f24b604",
   "metadata": {},
   "source": [
    "_In diesem Notebook wird das Wissen der im Notebook für Beginner*innen vermittelten Inhalte als vorrausgesetzt angesehen._"
   ]
  },
  {
   "cell_type": "markdown",
   "id": "3268ad27",
   "metadata": {},
   "source": [
    "Für die Aufgaben wird ein Datensatz im Zeitraum 01.05.2018–13.05.2018 zur Verfügung gestellt. Dieser Datensatz ist nicht vorprozessiert. Jede Datei enthält die Ausgabe von 6 Messsonden, die jeweils die Bodenfeuchte und Bodentemperatur in den Tiefen -7,5 cm und -27,5 cm in einem 6 Minuten Intervall misst. Die Messungen werden tagesweise in .TXT Dateien abgelegt."
   ]
  },
  {
   "cell_type": "markdown",
   "id": "6fb251ea",
   "metadata": {},
   "source": [
    "Anders als im *Advanced_SoilNet_Intro* Notebook soll der Prozess der Datenaggregation in Funktionen automatisiert werden."
   ]
  },
  {
   "cell_type": "markdown",
   "id": "01515033",
   "metadata": {},
   "source": [
    "### Erstelle Funktion(en), die folgende Schritte für den gegebenen Zeitraum (01.05.2018–13.05.2018) über alle Tagesdateien  durchführen:\n",
    "__1.__ Berechne die **durchschnittliche Bodenfeuchte und Bodentemperatur in den Tiefen -7,5 cm und -27,5 cm**. Achte dabei auf die korrekte Benennung der Spalten.  \n",
    "  \n",
    "**2.** Berechne nun die **durchschnittliche Bodenfeuchte und Bodentemperatur für den Aufnahmezeitpunkt einer Sentinel-1 Szene** in aufsteigender (ca. 17:00 Uhr) und absteigender (ca. 05:25 Uhr) Orbitrichtung für jeden Tag im gegebenen Zeitraum. Der eigentliche Akquisitionstag von Sentinel-1 (circa alle 12 Tage) kann hierbei vernachlässigt werden. Wähle hierfür einen für dich sinnvollen Abstand zum Aufnahmezeitpunkt. Die unterschiedlichen Orbitrichtungen sollten dabei sinnvoll unterscheidbar in Data-Frames abgelegt werden.   \n",
    "  \n",
    "**3.** Erstelle jeweils einen geeigneten **Plot** für die Orbit-Richtung mittels *Matplotlib*, der die Ergebnisse übersichtlich abbildet und exportiere ihn."
   ]
  },
  {
   "cell_type": "markdown",
   "id": "f941e90f",
   "metadata": {},
   "source": [
    "*Hinweise*:   \n",
    "- Im Dateiname der Tagesdatei ist das Datum des Tags enthalten, Stringstellen können wie Listen-Indices gecalled werden  \n",
    "  (*https://docs.python.org/3/library/stdtypes.html#text-sequence-type-str*).   \n",
    "- Nützliche Funktion zum Einlesen und Sortieren aller Dateien im Ordner wäre z.B. _sorted(glob.glob(inDir + '*.txt',recursive=False))_.\n",
    "- Um die X-Achseneinteilung zu automatisieren, kann folgende Matplotlib.Dates-Funktion genutzt werden:  \n",
    "    _set_major_formatter(mdates.DateFormatter('%Y-%m-%d %H:%M'))_."
   ]
  }
 ],
 "metadata": {
  "kernelspec": {
   "display_name": "Python 3",
   "language": "python",
   "name": "python3"
  },
  "language_info": {
   "codemirror_mode": {
    "name": "ipython",
    "version": 3
   },
   "file_extension": ".py",
   "mimetype": "text/x-python",
   "name": "python",
   "nbconvert_exporter": "python",
   "pygments_lexer": "ipython3",
   "version": "3.8.10"
  }
 },
 "nbformat": 4,
 "nbformat_minor": 5
}
