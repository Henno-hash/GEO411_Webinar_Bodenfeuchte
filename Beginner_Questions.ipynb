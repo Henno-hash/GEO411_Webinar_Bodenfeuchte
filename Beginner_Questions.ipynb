{
 "cells": [
  {
   "cell_type": "markdown",
   "metadata": {},
   "source": [
    "# Aufgaben für Beginner*innen"
   ]
  },
  {
   "cell_type": "markdown",
   "metadata": {},
   "source": [
    "*In diesem Notebook werden keine Vorkenntnisse erwartet.*"
   ]
  },
  {
   "cell_type": "markdown",
   "metadata": {},
   "source": [
    "Für die Aufgaben wird ein Datensatz vom 26.12.2015 zur Verfügung gestellt. Dieser Datensatz ist bereits vorprozessiert. Jede Datei enthält die Ausgabe von 6 Messsonden, die jeweils die Bodenfeuchte und Bodentemperatur in den Tiefen -7,5 cm und -27,5 cm in einem 6 Minuten Intervall misst. Die Messungen für den 26.12.2015 sind in der .TXT Datei zusammengefasst."
   ]
  },
  {
   "cell_type": "markdown",
   "metadata": {},
   "source": [
    "### Löse folgende Aufgaben (anhand des Beginner*innen Notebooks):\n",
    "1. Wie viele Zeilen und Spalten hat die Datei *Beginner_2015_TASK.txt*?\n",
    "2. Welches Datenformat hat die Spalte *ST5*?\n",
    "3. Schneide den Data-Frame so zu, dass nur die obersten 7 Messwerte der Spalten SM2, SM4 und SM6 angezeigt werden!\n",
    "4. Benenne die Spalten in das Format *SMX (Tiefe: X cm)* um!\n",
    "5. Benenne die Spalten zurück, wie sie vorher hießen!\n",
    "6. Wie lauten die doppelten Timestamps? \n",
    "    - (Hinweis: Um alle Zeilen zu betrachten, kann die Funktion: _pd.set_option('display.max_rows', 250)_ genutzt werden.)\n",
    "7. Zeige nur die doppelten Timestamps an!\n",
    "    - (Hinweis: Die Oder-Operation lautet: _|_)\n",
    "8. Wie viele Zeilen liegen nach der Anwendung der Drop-Funktion im Data-Frame vor?\n",
    "9. Wie viele Zeilen liegen nach der Anwendung der Filterfunktion im Data-Frame vor?\n",
    "10. Erstelle und exportiere ein Diagramm mit SM4 (schwarz) und SM6 (grau)!\n",
    "    - (Hinweis: Mögliche Farben findet ihr hier: https://matplotlib.org/stable/gallery/color/named_colors.html)\n",
    "11. Erstelle und expoerte ein Diagramm, das alle sechs Datenreihen (*SM1*, *ST1*, *SM2* ,...) enthält!"
   ]
  }
 ],
 "metadata": {
  "kernelspec": {
   "display_name": "Python 3",
   "language": "python",
   "name": "python3"
  },
  "language_info": {
   "codemirror_mode": {
    "name": "ipython",
    "version": 3
   },
   "file_extension": ".py",
   "mimetype": "text/x-python",
   "name": "python",
   "nbconvert_exporter": "python",
   "pygments_lexer": "ipython3",
   "version": "3.7.9"
  }
 },
 "nbformat": 4,
 "nbformat_minor": 4
}
