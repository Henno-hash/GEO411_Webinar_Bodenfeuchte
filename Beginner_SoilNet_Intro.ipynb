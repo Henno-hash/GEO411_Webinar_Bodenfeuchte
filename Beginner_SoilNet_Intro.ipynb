{
 "cells": [
  {
   "cell_type": "markdown",
   "id": "efdd3388",
   "metadata": {},
   "source": [
    "# Webinar für Python-Beginner*innen\n",
    "## Grundlegende Einführung in die Datenanalyse mit Python (Pandas-Package)\n",
    "## Intro"
   ]
  },
  {
   "cell_type": "markdown",
   "id": "61b354d4",
   "metadata": {},
   "source": [
    "In diesem Juypter-Notebook zeigen wir euch mit dem Python Pandas-Package die wesentlichen Schritte, um:\n",
    "- Daten einzulesen\n",
    "- Daten zu bearbeiten\n",
    "- Daten darzustellen\n",
    "- Daten zu exportieren"
   ]
  },
  {
   "cell_type": "markdown",
   "id": "5acebf18",
   "metadata": {},
   "source": [
    "Sobald ihr das Notebook zu Ende bearbeitet habt, seid ihr in der Lage, die Abschlussaufgabe zu lösen.  \n",
    "Diese stellen wir euch am Ende im Webinar genauer vor."
   ]
  },
  {
   "cell_type": "markdown",
   "id": "c7bc84ed",
   "metadata": {},
   "source": [
    "### Pandas  \n",
    "Pandas ist eine Programmierbibliothek mit vielen Hilfsmitteln und Funktionen, um umfangreiche Datenverwaltungsaufgaben und Datenanalysen zu ermöglichen. Dabei wird explizit auf die Verarbeitung von Datenreihen abgezielt. Pandas behandelt den geladenen Data-Frame wie ein Dictionary, sprich die einzelnen Datenwerte werden mit einem Schlüssel versehen. Diese Schlüssel-Wert Paare sind veränderbar, sortierbar und vor allem einfach organisierbar.  \n",
    "  \n",
    "https://pandas.pydata.org/"
   ]
  },
  {
   "cell_type": "markdown",
   "id": "5d67fdef",
   "metadata": {},
   "source": [
    "## Beispielhafte Schritt für Schritt Anleitung zum Einlesen, Bearbeiten und Darstellen eines Data-Frames"
   ]
  },
  {
   "cell_type": "markdown",
   "id": "674ed8d3",
   "metadata": {},
   "source": [
    "Zunächst muss das notwendige Matplotlib Package importiert werden, hierbei wird ein Kürzel (_pd_) verwendet:"
   ]
  },
  {
   "cell_type": "code",
   "execution_count": 87,
   "id": "b2aafe32",
   "metadata": {},
   "outputs": [],
   "source": [
    "import pandas as pd"
   ]
  },
  {
   "cell_type": "markdown",
   "id": "bef42d36",
   "metadata": {},
   "source": [
    "Anschließend gebt ihr den Pfad zu einer Datei (.txt oder .csv) an, die ihr einlesen wollt.  \n",
    "Hierbei definiert ihr den Pfad als Variable _file_"
   ]
  },
  {
   "cell_type": "code",
   "execution_count": 88,
   "id": "edf38d13",
   "metadata": {},
   "outputs": [],
   "source": [
    "file = r'C:\\Users\\Florian\\Geo411\\NB\\Aufbereite_Daten_Beg\\Beginner_2016_INTRO.txt'"
   ]
  },
  {
   "cell_type": "markdown",
   "id": "d69b199e",
   "metadata": {},
   "source": [
    "Dann wird einer neuer Data-Frame (_df_) erstellt, indem ihr die Funktion  \n",
    "_pd.read_csv('PFAD')_ nutzt, hierbei kann die Funktion auch Textdatein lesen"
   ]
  },
  {
   "cell_type": "code",
   "execution_count": 106,
   "id": "0fee038d",
   "metadata": {},
   "outputs": [],
   "source": [
    "df=pd.read_csv(file, sep = \"\\t\")"
   ]
  },
  {
   "cell_type": "markdown",
   "id": "fe8a94cf",
   "metadata": {},
   "source": [
    "Nun könnt ihr euch eure Datei mit Aufruf des erstellen Data-Frame anzeigen lassen  \n",
    "_df_"
   ]
  },
  {
   "cell_type": "code",
   "execution_count": 90,
   "id": "f8dbb447",
   "metadata": {
    "scrolled": true
   },
   "outputs": [
    {
     "data": {
      "text/html": [
       "<div>\n",
       "<style scoped>\n",
       "    .dataframe tbody tr th:only-of-type {\n",
       "        vertical-align: middle;\n",
       "    }\n",
       "\n",
       "    .dataframe tbody tr th {\n",
       "        vertical-align: top;\n",
       "    }\n",
       "\n",
       "    .dataframe thead th {\n",
       "        text-align: right;\n",
       "    }\n",
       "</style>\n",
       "<table border=\"1\" class=\"dataframe\">\n",
       "  <thead>\n",
       "    <tr style=\"text-align: right;\">\n",
       "      <th></th>\n",
       "      <th>d_t</th>\n",
       "      <th>SM1</th>\n",
       "      <th>ST1</th>\n",
       "      <th>SM2</th>\n",
       "      <th>ST2</th>\n",
       "      <th>SM3</th>\n",
       "      <th>ST3</th>\n",
       "      <th>SM4</th>\n",
       "      <th>ST4</th>\n",
       "      <th>SM5</th>\n",
       "      <th>ST5</th>\n",
       "      <th>SM6</th>\n",
       "      <th>ST6</th>\n",
       "    </tr>\n",
       "  </thead>\n",
       "  <tbody>\n",
       "    <tr>\n",
       "      <th>0</th>\n",
       "      <td>2016-06-11 00:00:00</td>\n",
       "      <td>19.58</td>\n",
       "      <td>12.99</td>\n",
       "      <td>30.44</td>\n",
       "      <td>11.98</td>\n",
       "      <td>27.06</td>\n",
       "      <td>12.79</td>\n",
       "      <td>34.65</td>\n",
       "      <td>11.91</td>\n",
       "      <td>29.77</td>\n",
       "      <td>12.74</td>\n",
       "      <td>43.69</td>\n",
       "      <td>12.05</td>\n",
       "    </tr>\n",
       "    <tr>\n",
       "      <th>1</th>\n",
       "      <td>2016-06-11 00:06:00</td>\n",
       "      <td>19.58</td>\n",
       "      <td>12.99</td>\n",
       "      <td>30.44</td>\n",
       "      <td>12.03</td>\n",
       "      <td>27.05</td>\n",
       "      <td>12.77</td>\n",
       "      <td>34.65</td>\n",
       "      <td>11.95</td>\n",
       "      <td>29.77</td>\n",
       "      <td>12.78</td>\n",
       "      <td>43.69</td>\n",
       "      <td>12.07</td>\n",
       "    </tr>\n",
       "    <tr>\n",
       "      <th>2</th>\n",
       "      <td>2016-06-11 00:12:00</td>\n",
       "      <td>19.57</td>\n",
       "      <td>12.98</td>\n",
       "      <td>30.44</td>\n",
       "      <td>12.01</td>\n",
       "      <td>27.05</td>\n",
       "      <td>12.77</td>\n",
       "      <td>34.65</td>\n",
       "      <td>11.95</td>\n",
       "      <td>29.76</td>\n",
       "      <td>12.74</td>\n",
       "      <td>43.69</td>\n",
       "      <td>12.05</td>\n",
       "    </tr>\n",
       "    <tr>\n",
       "      <th>3</th>\n",
       "      <td>2016-06-11 00:24:00</td>\n",
       "      <td>19.57</td>\n",
       "      <td>12.98</td>\n",
       "      <td>30.45</td>\n",
       "      <td>12.03</td>\n",
       "      <td>27.05</td>\n",
       "      <td>12.73</td>\n",
       "      <td>34.65</td>\n",
       "      <td>11.98</td>\n",
       "      <td>29.76</td>\n",
       "      <td>12.70</td>\n",
       "      <td>43.69</td>\n",
       "      <td>12.05</td>\n",
       "    </tr>\n",
       "    <tr>\n",
       "      <th>4</th>\n",
       "      <td>2016-06-11 00:30:00</td>\n",
       "      <td>19.56</td>\n",
       "      <td>12.95</td>\n",
       "      <td>30.45</td>\n",
       "      <td>12.02</td>\n",
       "      <td>27.04</td>\n",
       "      <td>12.74</td>\n",
       "      <td>34.65</td>\n",
       "      <td>11.94</td>\n",
       "      <td>29.75</td>\n",
       "      <td>12.74</td>\n",
       "      <td>43.69</td>\n",
       "      <td>12.04</td>\n",
       "    </tr>\n",
       "    <tr>\n",
       "      <th>...</th>\n",
       "      <td>...</td>\n",
       "      <td>...</td>\n",
       "      <td>...</td>\n",
       "      <td>...</td>\n",
       "      <td>...</td>\n",
       "      <td>...</td>\n",
       "      <td>...</td>\n",
       "      <td>...</td>\n",
       "      <td>...</td>\n",
       "      <td>...</td>\n",
       "      <td>...</td>\n",
       "      <td>...</td>\n",
       "      <td>...</td>\n",
       "    </tr>\n",
       "    <tr>\n",
       "      <th>233</th>\n",
       "      <td>2016-06-11 23:24:00</td>\n",
       "      <td>19.56</td>\n",
       "      <td>13.00</td>\n",
       "      <td>30.08</td>\n",
       "      <td>11.89</td>\n",
       "      <td>25.77</td>\n",
       "      <td>12.85</td>\n",
       "      <td>34.26</td>\n",
       "      <td>11.86</td>\n",
       "      <td>28.83</td>\n",
       "      <td>12.72</td>\n",
       "      <td>43.50</td>\n",
       "      <td>11.93</td>\n",
       "    </tr>\n",
       "    <tr>\n",
       "      <th>234</th>\n",
       "      <td>2016-06-11 23:36:00</td>\n",
       "      <td>19.57</td>\n",
       "      <td>13.01</td>\n",
       "      <td>30.08</td>\n",
       "      <td>11.91</td>\n",
       "      <td>25.77</td>\n",
       "      <td>12.81</td>\n",
       "      <td>34.24</td>\n",
       "      <td>11.84</td>\n",
       "      <td>28.82</td>\n",
       "      <td>12.74</td>\n",
       "      <td>43.50</td>\n",
       "      <td>11.94</td>\n",
       "    </tr>\n",
       "    <tr>\n",
       "      <th>235</th>\n",
       "      <td>2016-06-11 23:42:00</td>\n",
       "      <td>19.49</td>\n",
       "      <td>12.98</td>\n",
       "      <td>30.08</td>\n",
       "      <td>11.91</td>\n",
       "      <td>25.76</td>\n",
       "      <td>12.81</td>\n",
       "      <td>34.24</td>\n",
       "      <td>11.84</td>\n",
       "      <td>28.82</td>\n",
       "      <td>12.70</td>\n",
       "      <td>43.50</td>\n",
       "      <td>11.98</td>\n",
       "    </tr>\n",
       "    <tr>\n",
       "      <th>236</th>\n",
       "      <td>2016-06-11 23:48:00</td>\n",
       "      <td>19.53</td>\n",
       "      <td>12.95</td>\n",
       "      <td>30.08</td>\n",
       "      <td>11.93</td>\n",
       "      <td>25.76</td>\n",
       "      <td>12.78</td>\n",
       "      <td>34.24</td>\n",
       "      <td>11.83</td>\n",
       "      <td>28.81</td>\n",
       "      <td>12.70</td>\n",
       "      <td>43.50</td>\n",
       "      <td>11.95</td>\n",
       "    </tr>\n",
       "    <tr>\n",
       "      <th>237</th>\n",
       "      <td>2016-06-11 23:54:00</td>\n",
       "      <td>19.51</td>\n",
       "      <td>12.96</td>\n",
       "      <td>30.08</td>\n",
       "      <td>11.91</td>\n",
       "      <td>25.76</td>\n",
       "      <td>12.77</td>\n",
       "      <td>34.24</td>\n",
       "      <td>11.85</td>\n",
       "      <td>28.82</td>\n",
       "      <td>12.72</td>\n",
       "      <td>43.50</td>\n",
       "      <td>11.98</td>\n",
       "    </tr>\n",
       "  </tbody>\n",
       "</table>\n",
       "<p>238 rows × 13 columns</p>\n",
       "</div>"
      ],
      "text/plain": [
       "                     d_t    SM1    ST1    SM2    ST2    SM3    ST3    SM4  \\\n",
       "0    2016-06-11 00:00:00  19.58  12.99  30.44  11.98  27.06  12.79  34.65   \n",
       "1    2016-06-11 00:06:00  19.58  12.99  30.44  12.03  27.05  12.77  34.65   \n",
       "2    2016-06-11 00:12:00  19.57  12.98  30.44  12.01  27.05  12.77  34.65   \n",
       "3    2016-06-11 00:24:00  19.57  12.98  30.45  12.03  27.05  12.73  34.65   \n",
       "4    2016-06-11 00:30:00  19.56  12.95  30.45  12.02  27.04  12.74  34.65   \n",
       "..                   ...    ...    ...    ...    ...    ...    ...    ...   \n",
       "233  2016-06-11 23:24:00  19.56  13.00  30.08  11.89  25.77  12.85  34.26   \n",
       "234  2016-06-11 23:36:00  19.57  13.01  30.08  11.91  25.77  12.81  34.24   \n",
       "235  2016-06-11 23:42:00  19.49  12.98  30.08  11.91  25.76  12.81  34.24   \n",
       "236  2016-06-11 23:48:00  19.53  12.95  30.08  11.93  25.76  12.78  34.24   \n",
       "237  2016-06-11 23:54:00  19.51  12.96  30.08  11.91  25.76  12.77  34.24   \n",
       "\n",
       "       ST4    SM5    ST5    SM6    ST6  \n",
       "0    11.91  29.77  12.74  43.69  12.05  \n",
       "1    11.95  29.77  12.78  43.69  12.07  \n",
       "2    11.95  29.76  12.74  43.69  12.05  \n",
       "3    11.98  29.76  12.70  43.69  12.05  \n",
       "4    11.94  29.75  12.74  43.69  12.04  \n",
       "..     ...    ...    ...    ...    ...  \n",
       "233  11.86  28.83  12.72  43.50  11.93  \n",
       "234  11.84  28.82  12.74  43.50  11.94  \n",
       "235  11.84  28.82  12.70  43.50  11.98  \n",
       "236  11.83  28.81  12.70  43.50  11.95  \n",
       "237  11.85  28.82  12.72  43.50  11.98  \n",
       "\n",
       "[238 rows x 13 columns]"
      ]
     },
     "execution_count": 90,
     "metadata": {},
     "output_type": "execute_result"
    }
   ],
   "source": [
    "df"
   ]
  },
  {
   "cell_type": "markdown",
   "id": "4096a9b6",
   "metadata": {},
   "source": [
    "Der dargestellte Data-Frame besteht aus 238 Zeilen und 13 Spalten (Python beginnt die Nummerierung mit 0).  \n",
    "\n",
    "Um eine Übersichtlichkeit zu bewahren, werden nicht alle Zeilen dargestellt, sondern nur die ersten und letzten fünf.\n",
    "Es gibt aber Funktionen, um mehr Zeilen (und Spalten) darzustellen (s. Advanced_SoilNet_Intro).  \n",
    "  \n",
    "Die Spalte *d_t* stellt das Datum mit Uhrzeit dar, während _SM_ für Soil Moisture und _ST_ für Soil Temperature steht.  \n",
    "Insgesamt liegen hier sechs SM und sechs ST Messreihen vor, die alle 6 Minuten mittels Sonde aufzeichnet wurden."
   ]
  },
  {
   "cell_type": "markdown",
   "id": "0c28d6cb",
   "metadata": {},
   "source": [
    "Alternativ kann die Größe des Data-Frames auch anders dargestellt werden.  \n",
    "Zum Anzeigen der Form des Data-Frames reicht ein einfaches:  \n",
    "      \n",
    "_df.shape_  \n",
    "(Zeilen, Spalten)"
   ]
  },
  {
   "cell_type": "code",
   "execution_count": 91,
   "id": "945435a0",
   "metadata": {},
   "outputs": [
    {
     "data": {
      "text/plain": [
       "(238, 13)"
      ]
     },
     "execution_count": 91,
     "metadata": {},
     "output_type": "execute_result"
    }
   ],
   "source": [
    "df.shape"
   ]
  },
  {
   "cell_type": "markdown",
   "id": "029bbe79",
   "metadata": {},
   "source": [
    "Zum Anzeigen der Datentypen des Data-Frames reicht ein einfaches:  \n",
    "      \n",
    "_df.dtypes_  \n",
    "Spaltenname        Datentyp"
   ]
  },
  {
   "cell_type": "code",
   "execution_count": 92,
   "id": "684e2300",
   "metadata": {},
   "outputs": [
    {
     "data": {
      "text/plain": [
       "d_t     object\n",
       "SM1    float64\n",
       "ST1    float64\n",
       "SM2    float64\n",
       "ST2    float64\n",
       "SM3    float64\n",
       "ST3    float64\n",
       "SM4    float64\n",
       "ST4    float64\n",
       "SM5    float64\n",
       "ST5    float64\n",
       "SM6    float64\n",
       "ST6    float64\n",
       "dtype: object"
      ]
     },
     "execution_count": 92,
     "metadata": {},
     "output_type": "execute_result"
    }
   ],
   "source": [
    "df.dtypes"
   ]
  },
  {
   "cell_type": "markdown",
   "id": "0fd05ef4",
   "metadata": {},
   "source": [
    "Bis auf *d_t* liegen alle Bodenmessungen _float64_ (Gleitkommazahl) vor   \n",
    "(s. auch https://jakevdp.github.io/PythonDataScienceHandbook/02.01-understanding-data-types.html)"
   ]
  },
  {
   "cell_type": "markdown",
   "id": "b669011d",
   "metadata": {},
   "source": [
    "### Anzeigen spezifischer Spalten\n",
    "Zum Anzeigen von Spalte SM1 und SM2 der obersten 10 Zeilen:  \n",
    "      \n",
    "_df.[['COLUMNNAME1','COLUMNNAME2']].head(ROWS)_    \n",
    "Spalte1 Spalte2"
   ]
  },
  {
   "cell_type": "code",
   "execution_count": 93,
   "id": "24c8250b",
   "metadata": {},
   "outputs": [
    {
     "data": {
      "text/html": [
       "<div>\n",
       "<style scoped>\n",
       "    .dataframe tbody tr th:only-of-type {\n",
       "        vertical-align: middle;\n",
       "    }\n",
       "\n",
       "    .dataframe tbody tr th {\n",
       "        vertical-align: top;\n",
       "    }\n",
       "\n",
       "    .dataframe thead th {\n",
       "        text-align: right;\n",
       "    }\n",
       "</style>\n",
       "<table border=\"1\" class=\"dataframe\">\n",
       "  <thead>\n",
       "    <tr style=\"text-align: right;\">\n",
       "      <th></th>\n",
       "      <th>SM1</th>\n",
       "      <th>SM2</th>\n",
       "    </tr>\n",
       "  </thead>\n",
       "  <tbody>\n",
       "    <tr>\n",
       "      <th>0</th>\n",
       "      <td>19.58</td>\n",
       "      <td>30.44</td>\n",
       "    </tr>\n",
       "    <tr>\n",
       "      <th>1</th>\n",
       "      <td>19.58</td>\n",
       "      <td>30.44</td>\n",
       "    </tr>\n",
       "    <tr>\n",
       "      <th>2</th>\n",
       "      <td>19.57</td>\n",
       "      <td>30.44</td>\n",
       "    </tr>\n",
       "    <tr>\n",
       "      <th>3</th>\n",
       "      <td>19.57</td>\n",
       "      <td>30.45</td>\n",
       "    </tr>\n",
       "    <tr>\n",
       "      <th>4</th>\n",
       "      <td>19.56</td>\n",
       "      <td>30.45</td>\n",
       "    </tr>\n",
       "    <tr>\n",
       "      <th>5</th>\n",
       "      <td>19.56</td>\n",
       "      <td>30.44</td>\n",
       "    </tr>\n",
       "    <tr>\n",
       "      <th>6</th>\n",
       "      <td>19.55</td>\n",
       "      <td>30.45</td>\n",
       "    </tr>\n",
       "    <tr>\n",
       "      <th>7</th>\n",
       "      <td>19.57</td>\n",
       "      <td>30.45</td>\n",
       "    </tr>\n",
       "    <tr>\n",
       "      <th>8</th>\n",
       "      <td>19.56</td>\n",
       "      <td>30.45</td>\n",
       "    </tr>\n",
       "    <tr>\n",
       "      <th>9</th>\n",
       "      <td>19.56</td>\n",
       "      <td>30.45</td>\n",
       "    </tr>\n",
       "  </tbody>\n",
       "</table>\n",
       "</div>"
      ],
      "text/plain": [
       "     SM1    SM2\n",
       "0  19.58  30.44\n",
       "1  19.58  30.44\n",
       "2  19.57  30.44\n",
       "3  19.57  30.45\n",
       "4  19.56  30.45\n",
       "5  19.56  30.44\n",
       "6  19.55  30.45\n",
       "7  19.57  30.45\n",
       "8  19.56  30.45\n",
       "9  19.56  30.45"
      ]
     },
     "execution_count": 93,
     "metadata": {},
     "output_type": "execute_result"
    }
   ],
   "source": [
    "df[['SM1','SM2']].head(10)"
   ]
  },
  {
   "cell_type": "markdown",
   "id": "76d099ec",
   "metadata": {},
   "source": [
    "### Umbennen der Spalten\n",
    "Die aktuellen Spaltennamen erscheinen noch etwas kryptisch...\n",
    "  \n",
    "Wir wissen, dass SM für Soil Moisture und dementsprechend ST für SoilTemperature steht.  \n",
    "Allerdings finden die Messungen nicht auf gleicher Tiefe statt.  \n",
    "SM1, SM3 und SM5 stehen für drei unterschiedliche Sonden, die die Bodenfeuchte in 7.5 cm Tiefe messen.  \n",
    "SM2, SM4 und SM6 sind weitere drei Sonden, die die Bodenfeuchte in 27.5 cm Tiefe messen.  \n",
    "Die Bodentemperatur wird nach dem gleichem Prinzip gemessen.  \n",
    "  \n",
    "Wir fügen also die Tiefeninformationen an:  \n",
    "  \n",
    "_df.rename(columns={'COLUMNNAME':'NEW_COLUMNNAME'}, inplace=True)_  \n",
    "(_inplace_ wird verwendet, damit die Änderungen auf den Data-Frame auch tatsächlich durchgeführt wird.)  \n",
    "Anschließend lassen wir uns den Data-Frame wieder anzeigen."
   ]
  },
  {
   "cell_type": "code",
   "execution_count": 94,
   "id": "3b6d0e83",
   "metadata": {},
   "outputs": [
    {
     "data": {
      "text/html": [
       "<div>\n",
       "<style scoped>\n",
       "    .dataframe tbody tr th:only-of-type {\n",
       "        vertical-align: middle;\n",
       "    }\n",
       "\n",
       "    .dataframe tbody tr th {\n",
       "        vertical-align: top;\n",
       "    }\n",
       "\n",
       "    .dataframe thead th {\n",
       "        text-align: right;\n",
       "    }\n",
       "</style>\n",
       "<table border=\"1\" class=\"dataframe\">\n",
       "  <thead>\n",
       "    <tr style=\"text-align: right;\">\n",
       "      <th></th>\n",
       "      <th>d_t</th>\n",
       "      <th>SM1 -7.5 cm</th>\n",
       "      <th>ST1 -7.5 cm</th>\n",
       "      <th>SM2 -27.5 cm</th>\n",
       "      <th>ST2 -27.5 cm</th>\n",
       "      <th>SM3 -7.5 cm</th>\n",
       "      <th>ST3 -7.5 cm</th>\n",
       "      <th>SM4 -27.5 cm</th>\n",
       "      <th>ST4 -27.5 cm</th>\n",
       "      <th>SM5 -7.5 cm</th>\n",
       "      <th>ST5 -7.5 cm</th>\n",
       "      <th>SM6 -27.5 cm</th>\n",
       "      <th>ST6 -27.5 cm</th>\n",
       "    </tr>\n",
       "  </thead>\n",
       "  <tbody>\n",
       "    <tr>\n",
       "      <th>0</th>\n",
       "      <td>2016-06-11 00:00:00</td>\n",
       "      <td>19.58</td>\n",
       "      <td>12.99</td>\n",
       "      <td>30.44</td>\n",
       "      <td>11.98</td>\n",
       "      <td>27.06</td>\n",
       "      <td>12.79</td>\n",
       "      <td>34.65</td>\n",
       "      <td>11.91</td>\n",
       "      <td>29.77</td>\n",
       "      <td>12.74</td>\n",
       "      <td>43.69</td>\n",
       "      <td>12.05</td>\n",
       "    </tr>\n",
       "    <tr>\n",
       "      <th>1</th>\n",
       "      <td>2016-06-11 00:06:00</td>\n",
       "      <td>19.58</td>\n",
       "      <td>12.99</td>\n",
       "      <td>30.44</td>\n",
       "      <td>12.03</td>\n",
       "      <td>27.05</td>\n",
       "      <td>12.77</td>\n",
       "      <td>34.65</td>\n",
       "      <td>11.95</td>\n",
       "      <td>29.77</td>\n",
       "      <td>12.78</td>\n",
       "      <td>43.69</td>\n",
       "      <td>12.07</td>\n",
       "    </tr>\n",
       "    <tr>\n",
       "      <th>2</th>\n",
       "      <td>2016-06-11 00:12:00</td>\n",
       "      <td>19.57</td>\n",
       "      <td>12.98</td>\n",
       "      <td>30.44</td>\n",
       "      <td>12.01</td>\n",
       "      <td>27.05</td>\n",
       "      <td>12.77</td>\n",
       "      <td>34.65</td>\n",
       "      <td>11.95</td>\n",
       "      <td>29.76</td>\n",
       "      <td>12.74</td>\n",
       "      <td>43.69</td>\n",
       "      <td>12.05</td>\n",
       "    </tr>\n",
       "    <tr>\n",
       "      <th>3</th>\n",
       "      <td>2016-06-11 00:24:00</td>\n",
       "      <td>19.57</td>\n",
       "      <td>12.98</td>\n",
       "      <td>30.45</td>\n",
       "      <td>12.03</td>\n",
       "      <td>27.05</td>\n",
       "      <td>12.73</td>\n",
       "      <td>34.65</td>\n",
       "      <td>11.98</td>\n",
       "      <td>29.76</td>\n",
       "      <td>12.70</td>\n",
       "      <td>43.69</td>\n",
       "      <td>12.05</td>\n",
       "    </tr>\n",
       "    <tr>\n",
       "      <th>4</th>\n",
       "      <td>2016-06-11 00:30:00</td>\n",
       "      <td>19.56</td>\n",
       "      <td>12.95</td>\n",
       "      <td>30.45</td>\n",
       "      <td>12.02</td>\n",
       "      <td>27.04</td>\n",
       "      <td>12.74</td>\n",
       "      <td>34.65</td>\n",
       "      <td>11.94</td>\n",
       "      <td>29.75</td>\n",
       "      <td>12.74</td>\n",
       "      <td>43.69</td>\n",
       "      <td>12.04</td>\n",
       "    </tr>\n",
       "    <tr>\n",
       "      <th>...</th>\n",
       "      <td>...</td>\n",
       "      <td>...</td>\n",
       "      <td>...</td>\n",
       "      <td>...</td>\n",
       "      <td>...</td>\n",
       "      <td>...</td>\n",
       "      <td>...</td>\n",
       "      <td>...</td>\n",
       "      <td>...</td>\n",
       "      <td>...</td>\n",
       "      <td>...</td>\n",
       "      <td>...</td>\n",
       "      <td>...</td>\n",
       "    </tr>\n",
       "    <tr>\n",
       "      <th>233</th>\n",
       "      <td>2016-06-11 23:24:00</td>\n",
       "      <td>19.56</td>\n",
       "      <td>13.00</td>\n",
       "      <td>30.08</td>\n",
       "      <td>11.89</td>\n",
       "      <td>25.77</td>\n",
       "      <td>12.85</td>\n",
       "      <td>34.26</td>\n",
       "      <td>11.86</td>\n",
       "      <td>28.83</td>\n",
       "      <td>12.72</td>\n",
       "      <td>43.50</td>\n",
       "      <td>11.93</td>\n",
       "    </tr>\n",
       "    <tr>\n",
       "      <th>234</th>\n",
       "      <td>2016-06-11 23:36:00</td>\n",
       "      <td>19.57</td>\n",
       "      <td>13.01</td>\n",
       "      <td>30.08</td>\n",
       "      <td>11.91</td>\n",
       "      <td>25.77</td>\n",
       "      <td>12.81</td>\n",
       "      <td>34.24</td>\n",
       "      <td>11.84</td>\n",
       "      <td>28.82</td>\n",
       "      <td>12.74</td>\n",
       "      <td>43.50</td>\n",
       "      <td>11.94</td>\n",
       "    </tr>\n",
       "    <tr>\n",
       "      <th>235</th>\n",
       "      <td>2016-06-11 23:42:00</td>\n",
       "      <td>19.49</td>\n",
       "      <td>12.98</td>\n",
       "      <td>30.08</td>\n",
       "      <td>11.91</td>\n",
       "      <td>25.76</td>\n",
       "      <td>12.81</td>\n",
       "      <td>34.24</td>\n",
       "      <td>11.84</td>\n",
       "      <td>28.82</td>\n",
       "      <td>12.70</td>\n",
       "      <td>43.50</td>\n",
       "      <td>11.98</td>\n",
       "    </tr>\n",
       "    <tr>\n",
       "      <th>236</th>\n",
       "      <td>2016-06-11 23:48:00</td>\n",
       "      <td>19.53</td>\n",
       "      <td>12.95</td>\n",
       "      <td>30.08</td>\n",
       "      <td>11.93</td>\n",
       "      <td>25.76</td>\n",
       "      <td>12.78</td>\n",
       "      <td>34.24</td>\n",
       "      <td>11.83</td>\n",
       "      <td>28.81</td>\n",
       "      <td>12.70</td>\n",
       "      <td>43.50</td>\n",
       "      <td>11.95</td>\n",
       "    </tr>\n",
       "    <tr>\n",
       "      <th>237</th>\n",
       "      <td>2016-06-11 23:54:00</td>\n",
       "      <td>19.51</td>\n",
       "      <td>12.96</td>\n",
       "      <td>30.08</td>\n",
       "      <td>11.91</td>\n",
       "      <td>25.76</td>\n",
       "      <td>12.77</td>\n",
       "      <td>34.24</td>\n",
       "      <td>11.85</td>\n",
       "      <td>28.82</td>\n",
       "      <td>12.72</td>\n",
       "      <td>43.50</td>\n",
       "      <td>11.98</td>\n",
       "    </tr>\n",
       "  </tbody>\n",
       "</table>\n",
       "<p>238 rows × 13 columns</p>\n",
       "</div>"
      ],
      "text/plain": [
       "                     d_t  SM1 -7.5 cm  ST1 -7.5 cm  SM2 -27.5 cm  \\\n",
       "0    2016-06-11 00:00:00        19.58        12.99         30.44   \n",
       "1    2016-06-11 00:06:00        19.58        12.99         30.44   \n",
       "2    2016-06-11 00:12:00        19.57        12.98         30.44   \n",
       "3    2016-06-11 00:24:00        19.57        12.98         30.45   \n",
       "4    2016-06-11 00:30:00        19.56        12.95         30.45   \n",
       "..                   ...          ...          ...           ...   \n",
       "233  2016-06-11 23:24:00        19.56        13.00         30.08   \n",
       "234  2016-06-11 23:36:00        19.57        13.01         30.08   \n",
       "235  2016-06-11 23:42:00        19.49        12.98         30.08   \n",
       "236  2016-06-11 23:48:00        19.53        12.95         30.08   \n",
       "237  2016-06-11 23:54:00        19.51        12.96         30.08   \n",
       "\n",
       "     ST2 -27.5 cm  SM3 -7.5 cm  ST3 -7.5 cm  SM4 -27.5 cm  ST4 -27.5 cm  \\\n",
       "0           11.98        27.06        12.79         34.65         11.91   \n",
       "1           12.03        27.05        12.77         34.65         11.95   \n",
       "2           12.01        27.05        12.77         34.65         11.95   \n",
       "3           12.03        27.05        12.73         34.65         11.98   \n",
       "4           12.02        27.04        12.74         34.65         11.94   \n",
       "..            ...          ...          ...           ...           ...   \n",
       "233         11.89        25.77        12.85         34.26         11.86   \n",
       "234         11.91        25.77        12.81         34.24         11.84   \n",
       "235         11.91        25.76        12.81         34.24         11.84   \n",
       "236         11.93        25.76        12.78         34.24         11.83   \n",
       "237         11.91        25.76        12.77         34.24         11.85   \n",
       "\n",
       "     SM5 -7.5 cm  ST5 -7.5 cm  SM6 -27.5 cm  ST6 -27.5 cm  \n",
       "0          29.77        12.74         43.69         12.05  \n",
       "1          29.77        12.78         43.69         12.07  \n",
       "2          29.76        12.74         43.69         12.05  \n",
       "3          29.76        12.70         43.69         12.05  \n",
       "4          29.75        12.74         43.69         12.04  \n",
       "..           ...          ...           ...           ...  \n",
       "233        28.83        12.72         43.50         11.93  \n",
       "234        28.82        12.74         43.50         11.94  \n",
       "235        28.82        12.70         43.50         11.98  \n",
       "236        28.81        12.70         43.50         11.95  \n",
       "237        28.82        12.72         43.50         11.98  \n",
       "\n",
       "[238 rows x 13 columns]"
      ]
     },
     "execution_count": 94,
     "metadata": {},
     "output_type": "execute_result"
    }
   ],
   "source": [
    "df.rename(columns={'SM1':'SM1 -7.5 cm','ST1':'ST1 -7.5 cm'}, inplace=True)\n",
    "df.rename(columns={'SM2':'SM2 -27.5 cm','ST2':'ST2 -27.5 cm'}, inplace=True)\n",
    "df.rename(columns={'SM3':'SM3 -7.5 cm','ST3':'ST3 -7.5 cm'}, inplace=True)\n",
    "df.rename(columns={'SM4':'SM4 -27.5 cm','ST4':'ST4 -27.5 cm'}, inplace=True)\n",
    "df.rename(columns={'SM5':'SM5 -7.5 cm','ST5':'ST5 -7.5 cm'}, inplace=True)\n",
    "df.rename(columns={'SM6':'SM6 -27.5 cm','ST6':'ST6 -27.5 cm'}, inplace=True)\n",
    "df"
   ]
  },
  {
   "cell_type": "markdown",
   "id": "7370c85d",
   "metadata": {},
   "source": [
    "### Filtern\n",
    "  \n",
    "Nun wollen wir ein bestimmtes Zeitfenster in den Daten genauer betrachten.  \n",
    "Hierfür definieren wir einen Filter (_filt_), den wir auf den Data-Frame anwenden: \n",
    "      \n",
    "_FILTER=((df['COLUMNNAME'] 'EXPRESSION'))_  \n",
    "Um mehrere Bedingungen zu verknüpfen, kommen die Logischen Operatoren zum Einsatz    \n",
    "_(Hinweis: https://pandas.pydata.org/pandas-docs/stable/user_guide/indexing.html)_    \n",
    "  \n",
    "Anwenden des definierten Filters:  \n",
    "_df.loc[FILTER]_"
   ]
  },
  {
   "cell_type": "code",
   "execution_count": 95,
   "id": "5516917c",
   "metadata": {},
   "outputs": [
    {
     "data": {
      "text/html": [
       "<div>\n",
       "<style scoped>\n",
       "    .dataframe tbody tr th:only-of-type {\n",
       "        vertical-align: middle;\n",
       "    }\n",
       "\n",
       "    .dataframe tbody tr th {\n",
       "        vertical-align: top;\n",
       "    }\n",
       "\n",
       "    .dataframe thead th {\n",
       "        text-align: right;\n",
       "    }\n",
       "</style>\n",
       "<table border=\"1\" class=\"dataframe\">\n",
       "  <thead>\n",
       "    <tr style=\"text-align: right;\">\n",
       "      <th></th>\n",
       "      <th>d_t</th>\n",
       "      <th>SM1 -7.5 cm</th>\n",
       "      <th>ST1 -7.5 cm</th>\n",
       "      <th>SM2 -27.5 cm</th>\n",
       "      <th>ST2 -27.5 cm</th>\n",
       "      <th>SM3 -7.5 cm</th>\n",
       "      <th>ST3 -7.5 cm</th>\n",
       "      <th>SM4 -27.5 cm</th>\n",
       "      <th>ST4 -27.5 cm</th>\n",
       "      <th>SM5 -7.5 cm</th>\n",
       "      <th>ST5 -7.5 cm</th>\n",
       "      <th>SM6 -27.5 cm</th>\n",
       "      <th>ST6 -27.5 cm</th>\n",
       "    </tr>\n",
       "  </thead>\n",
       "  <tbody>\n",
       "    <tr>\n",
       "      <th>164</th>\n",
       "      <td>2016-06-11 16:36:00</td>\n",
       "      <td>19.93</td>\n",
       "      <td>12.93</td>\n",
       "      <td>30.12</td>\n",
       "      <td>11.85</td>\n",
       "      <td>26.22</td>\n",
       "      <td>12.77</td>\n",
       "      <td>34.39</td>\n",
       "      <td>11.80</td>\n",
       "      <td>29.14</td>\n",
       "      <td>12.62</td>\n",
       "      <td>43.55</td>\n",
       "      <td>11.89</td>\n",
       "    </tr>\n",
       "    <tr>\n",
       "      <th>165</th>\n",
       "      <td>2016-06-11 16:42:00</td>\n",
       "      <td>19.91</td>\n",
       "      <td>12.91</td>\n",
       "      <td>30.12</td>\n",
       "      <td>11.85</td>\n",
       "      <td>26.20</td>\n",
       "      <td>12.78</td>\n",
       "      <td>34.38</td>\n",
       "      <td>11.80</td>\n",
       "      <td>29.14</td>\n",
       "      <td>12.62</td>\n",
       "      <td>43.55</td>\n",
       "      <td>11.91</td>\n",
       "    </tr>\n",
       "    <tr>\n",
       "      <th>166</th>\n",
       "      <td>2016-06-11 16:48:00</td>\n",
       "      <td>19.90</td>\n",
       "      <td>12.89</td>\n",
       "      <td>30.12</td>\n",
       "      <td>11.87</td>\n",
       "      <td>26.19</td>\n",
       "      <td>12.77</td>\n",
       "      <td>34.37</td>\n",
       "      <td>11.82</td>\n",
       "      <td>29.13</td>\n",
       "      <td>12.61</td>\n",
       "      <td>43.55</td>\n",
       "      <td>11.91</td>\n",
       "    </tr>\n",
       "    <tr>\n",
       "      <th>167</th>\n",
       "      <td>2016-06-11 16:54:00</td>\n",
       "      <td>19.90</td>\n",
       "      <td>12.92</td>\n",
       "      <td>30.12</td>\n",
       "      <td>11.85</td>\n",
       "      <td>26.18</td>\n",
       "      <td>12.78</td>\n",
       "      <td>34.37</td>\n",
       "      <td>11.79</td>\n",
       "      <td>29.13</td>\n",
       "      <td>12.61</td>\n",
       "      <td>43.55</td>\n",
       "      <td>11.89</td>\n",
       "    </tr>\n",
       "    <tr>\n",
       "      <th>168</th>\n",
       "      <td>2016-06-11 17:00:00</td>\n",
       "      <td>19.85</td>\n",
       "      <td>12.94</td>\n",
       "      <td>30.12</td>\n",
       "      <td>11.88</td>\n",
       "      <td>26.18</td>\n",
       "      <td>12.77</td>\n",
       "      <td>34.37</td>\n",
       "      <td>11.80</td>\n",
       "      <td>29.13</td>\n",
       "      <td>12.66</td>\n",
       "      <td>43.55</td>\n",
       "      <td>11.89</td>\n",
       "    </tr>\n",
       "    <tr>\n",
       "      <th>169</th>\n",
       "      <td>2016-06-11 17:06:00</td>\n",
       "      <td>19.83</td>\n",
       "      <td>12.92</td>\n",
       "      <td>30.12</td>\n",
       "      <td>11.86</td>\n",
       "      <td>26.17</td>\n",
       "      <td>12.80</td>\n",
       "      <td>34.37</td>\n",
       "      <td>11.79</td>\n",
       "      <td>29.12</td>\n",
       "      <td>12.64</td>\n",
       "      <td>43.55</td>\n",
       "      <td>11.91</td>\n",
       "    </tr>\n",
       "    <tr>\n",
       "      <th>170</th>\n",
       "      <td>2016-06-11 17:12:00</td>\n",
       "      <td>19.86</td>\n",
       "      <td>12.95</td>\n",
       "      <td>30.12</td>\n",
       "      <td>11.85</td>\n",
       "      <td>26.16</td>\n",
       "      <td>12.77</td>\n",
       "      <td>34.36</td>\n",
       "      <td>11.79</td>\n",
       "      <td>29.11</td>\n",
       "      <td>12.66</td>\n",
       "      <td>43.55</td>\n",
       "      <td>11.90</td>\n",
       "    </tr>\n",
       "  </tbody>\n",
       "</table>\n",
       "</div>"
      ],
      "text/plain": [
       "                     d_t  SM1 -7.5 cm  ST1 -7.5 cm  SM2 -27.5 cm  \\\n",
       "164  2016-06-11 16:36:00        19.93        12.93         30.12   \n",
       "165  2016-06-11 16:42:00        19.91        12.91         30.12   \n",
       "166  2016-06-11 16:48:00        19.90        12.89         30.12   \n",
       "167  2016-06-11 16:54:00        19.90        12.92         30.12   \n",
       "168  2016-06-11 17:00:00        19.85        12.94         30.12   \n",
       "169  2016-06-11 17:06:00        19.83        12.92         30.12   \n",
       "170  2016-06-11 17:12:00        19.86        12.95         30.12   \n",
       "\n",
       "     ST2 -27.5 cm  SM3 -7.5 cm  ST3 -7.5 cm  SM4 -27.5 cm  ST4 -27.5 cm  \\\n",
       "164         11.85        26.22        12.77         34.39         11.80   \n",
       "165         11.85        26.20        12.78         34.38         11.80   \n",
       "166         11.87        26.19        12.77         34.37         11.82   \n",
       "167         11.85        26.18        12.78         34.37         11.79   \n",
       "168         11.88        26.18        12.77         34.37         11.80   \n",
       "169         11.86        26.17        12.80         34.37         11.79   \n",
       "170         11.85        26.16        12.77         34.36         11.79   \n",
       "\n",
       "     SM5 -7.5 cm  ST5 -7.5 cm  SM6 -27.5 cm  ST6 -27.5 cm  \n",
       "164        29.14        12.62         43.55         11.89  \n",
       "165        29.14        12.62         43.55         11.91  \n",
       "166        29.13        12.61         43.55         11.91  \n",
       "167        29.13        12.61         43.55         11.89  \n",
       "168        29.13        12.66         43.55         11.89  \n",
       "169        29.12        12.64         43.55         11.91  \n",
       "170        29.11        12.66         43.55         11.90  "
      ]
     },
     "execution_count": 95,
     "metadata": {},
     "output_type": "execute_result"
    }
   ],
   "source": [
    "filt=((df['d_t']>'2016-06-11 16:35:00')&(df['d_t']<'2016-06-11 17:15:00'))\n",
    "df.loc[filt]"
   ]
  },
  {
   "cell_type": "markdown",
   "id": "ce08ce32",
   "metadata": {},
   "source": [
    "Die Filterfunktion zeigt uns nur die Messreihen zwischen 16:35:01 und 17:14:59 an.  \n",
    "Relevant ist das zum Beispiel, um extakt die Bodenfeuchte und Bodentemperatur abzulesen,  \n",
    "die während eines Sentinel-1 Überfluges vorliegt. Der eigentliche Akquisitionstag von Sentinel-1 (circa alle 12 Tage) kann hierbei vernachlässigt werden.  \n",
    "_(Hier: Sentinel-1 Ascending Orbit 44: 17:00:00)_"
   ]
  },
  {
   "cell_type": "markdown",
   "id": "3d1c243d",
   "metadata": {},
   "source": [
    "Die Filterfunktion verändert den Data-Frame jedoch nicht.\n",
    "Das heißt, mittels _df_ können wir uns wieder unserer unveränderten Data-Frame anzeigen lassen."
   ]
  },
  {
   "cell_type": "code",
   "execution_count": 96,
   "id": "05f4a521",
   "metadata": {},
   "outputs": [
    {
     "data": {
      "text/html": [
       "<div>\n",
       "<style scoped>\n",
       "    .dataframe tbody tr th:only-of-type {\n",
       "        vertical-align: middle;\n",
       "    }\n",
       "\n",
       "    .dataframe tbody tr th {\n",
       "        vertical-align: top;\n",
       "    }\n",
       "\n",
       "    .dataframe thead th {\n",
       "        text-align: right;\n",
       "    }\n",
       "</style>\n",
       "<table border=\"1\" class=\"dataframe\">\n",
       "  <thead>\n",
       "    <tr style=\"text-align: right;\">\n",
       "      <th></th>\n",
       "      <th>d_t</th>\n",
       "      <th>SM1 -7.5 cm</th>\n",
       "      <th>ST1 -7.5 cm</th>\n",
       "      <th>SM2 -27.5 cm</th>\n",
       "      <th>ST2 -27.5 cm</th>\n",
       "      <th>SM3 -7.5 cm</th>\n",
       "      <th>ST3 -7.5 cm</th>\n",
       "      <th>SM4 -27.5 cm</th>\n",
       "      <th>ST4 -27.5 cm</th>\n",
       "      <th>SM5 -7.5 cm</th>\n",
       "      <th>ST5 -7.5 cm</th>\n",
       "      <th>SM6 -27.5 cm</th>\n",
       "      <th>ST6 -27.5 cm</th>\n",
       "    </tr>\n",
       "  </thead>\n",
       "  <tbody>\n",
       "    <tr>\n",
       "      <th>0</th>\n",
       "      <td>2016-06-11 00:00:00</td>\n",
       "      <td>19.58</td>\n",
       "      <td>12.99</td>\n",
       "      <td>30.44</td>\n",
       "      <td>11.98</td>\n",
       "      <td>27.06</td>\n",
       "      <td>12.79</td>\n",
       "      <td>34.65</td>\n",
       "      <td>11.91</td>\n",
       "      <td>29.77</td>\n",
       "      <td>12.74</td>\n",
       "      <td>43.69</td>\n",
       "      <td>12.05</td>\n",
       "    </tr>\n",
       "    <tr>\n",
       "      <th>1</th>\n",
       "      <td>2016-06-11 00:06:00</td>\n",
       "      <td>19.58</td>\n",
       "      <td>12.99</td>\n",
       "      <td>30.44</td>\n",
       "      <td>12.03</td>\n",
       "      <td>27.05</td>\n",
       "      <td>12.77</td>\n",
       "      <td>34.65</td>\n",
       "      <td>11.95</td>\n",
       "      <td>29.77</td>\n",
       "      <td>12.78</td>\n",
       "      <td>43.69</td>\n",
       "      <td>12.07</td>\n",
       "    </tr>\n",
       "    <tr>\n",
       "      <th>2</th>\n",
       "      <td>2016-06-11 00:12:00</td>\n",
       "      <td>19.57</td>\n",
       "      <td>12.98</td>\n",
       "      <td>30.44</td>\n",
       "      <td>12.01</td>\n",
       "      <td>27.05</td>\n",
       "      <td>12.77</td>\n",
       "      <td>34.65</td>\n",
       "      <td>11.95</td>\n",
       "      <td>29.76</td>\n",
       "      <td>12.74</td>\n",
       "      <td>43.69</td>\n",
       "      <td>12.05</td>\n",
       "    </tr>\n",
       "    <tr>\n",
       "      <th>3</th>\n",
       "      <td>2016-06-11 00:24:00</td>\n",
       "      <td>19.57</td>\n",
       "      <td>12.98</td>\n",
       "      <td>30.45</td>\n",
       "      <td>12.03</td>\n",
       "      <td>27.05</td>\n",
       "      <td>12.73</td>\n",
       "      <td>34.65</td>\n",
       "      <td>11.98</td>\n",
       "      <td>29.76</td>\n",
       "      <td>12.70</td>\n",
       "      <td>43.69</td>\n",
       "      <td>12.05</td>\n",
       "    </tr>\n",
       "    <tr>\n",
       "      <th>4</th>\n",
       "      <td>2016-06-11 00:30:00</td>\n",
       "      <td>19.56</td>\n",
       "      <td>12.95</td>\n",
       "      <td>30.45</td>\n",
       "      <td>12.02</td>\n",
       "      <td>27.04</td>\n",
       "      <td>12.74</td>\n",
       "      <td>34.65</td>\n",
       "      <td>11.94</td>\n",
       "      <td>29.75</td>\n",
       "      <td>12.74</td>\n",
       "      <td>43.69</td>\n",
       "      <td>12.04</td>\n",
       "    </tr>\n",
       "    <tr>\n",
       "      <th>...</th>\n",
       "      <td>...</td>\n",
       "      <td>...</td>\n",
       "      <td>...</td>\n",
       "      <td>...</td>\n",
       "      <td>...</td>\n",
       "      <td>...</td>\n",
       "      <td>...</td>\n",
       "      <td>...</td>\n",
       "      <td>...</td>\n",
       "      <td>...</td>\n",
       "      <td>...</td>\n",
       "      <td>...</td>\n",
       "      <td>...</td>\n",
       "    </tr>\n",
       "    <tr>\n",
       "      <th>233</th>\n",
       "      <td>2016-06-11 23:24:00</td>\n",
       "      <td>19.56</td>\n",
       "      <td>13.00</td>\n",
       "      <td>30.08</td>\n",
       "      <td>11.89</td>\n",
       "      <td>25.77</td>\n",
       "      <td>12.85</td>\n",
       "      <td>34.26</td>\n",
       "      <td>11.86</td>\n",
       "      <td>28.83</td>\n",
       "      <td>12.72</td>\n",
       "      <td>43.50</td>\n",
       "      <td>11.93</td>\n",
       "    </tr>\n",
       "    <tr>\n",
       "      <th>234</th>\n",
       "      <td>2016-06-11 23:36:00</td>\n",
       "      <td>19.57</td>\n",
       "      <td>13.01</td>\n",
       "      <td>30.08</td>\n",
       "      <td>11.91</td>\n",
       "      <td>25.77</td>\n",
       "      <td>12.81</td>\n",
       "      <td>34.24</td>\n",
       "      <td>11.84</td>\n",
       "      <td>28.82</td>\n",
       "      <td>12.74</td>\n",
       "      <td>43.50</td>\n",
       "      <td>11.94</td>\n",
       "    </tr>\n",
       "    <tr>\n",
       "      <th>235</th>\n",
       "      <td>2016-06-11 23:42:00</td>\n",
       "      <td>19.49</td>\n",
       "      <td>12.98</td>\n",
       "      <td>30.08</td>\n",
       "      <td>11.91</td>\n",
       "      <td>25.76</td>\n",
       "      <td>12.81</td>\n",
       "      <td>34.24</td>\n",
       "      <td>11.84</td>\n",
       "      <td>28.82</td>\n",
       "      <td>12.70</td>\n",
       "      <td>43.50</td>\n",
       "      <td>11.98</td>\n",
       "    </tr>\n",
       "    <tr>\n",
       "      <th>236</th>\n",
       "      <td>2016-06-11 23:48:00</td>\n",
       "      <td>19.53</td>\n",
       "      <td>12.95</td>\n",
       "      <td>30.08</td>\n",
       "      <td>11.93</td>\n",
       "      <td>25.76</td>\n",
       "      <td>12.78</td>\n",
       "      <td>34.24</td>\n",
       "      <td>11.83</td>\n",
       "      <td>28.81</td>\n",
       "      <td>12.70</td>\n",
       "      <td>43.50</td>\n",
       "      <td>11.95</td>\n",
       "    </tr>\n",
       "    <tr>\n",
       "      <th>237</th>\n",
       "      <td>2016-06-11 23:54:00</td>\n",
       "      <td>19.51</td>\n",
       "      <td>12.96</td>\n",
       "      <td>30.08</td>\n",
       "      <td>11.91</td>\n",
       "      <td>25.76</td>\n",
       "      <td>12.77</td>\n",
       "      <td>34.24</td>\n",
       "      <td>11.85</td>\n",
       "      <td>28.82</td>\n",
       "      <td>12.72</td>\n",
       "      <td>43.50</td>\n",
       "      <td>11.98</td>\n",
       "    </tr>\n",
       "  </tbody>\n",
       "</table>\n",
       "<p>238 rows × 13 columns</p>\n",
       "</div>"
      ],
      "text/plain": [
       "                     d_t  SM1 -7.5 cm  ST1 -7.5 cm  SM2 -27.5 cm  \\\n",
       "0    2016-06-11 00:00:00        19.58        12.99         30.44   \n",
       "1    2016-06-11 00:06:00        19.58        12.99         30.44   \n",
       "2    2016-06-11 00:12:00        19.57        12.98         30.44   \n",
       "3    2016-06-11 00:24:00        19.57        12.98         30.45   \n",
       "4    2016-06-11 00:30:00        19.56        12.95         30.45   \n",
       "..                   ...          ...          ...           ...   \n",
       "233  2016-06-11 23:24:00        19.56        13.00         30.08   \n",
       "234  2016-06-11 23:36:00        19.57        13.01         30.08   \n",
       "235  2016-06-11 23:42:00        19.49        12.98         30.08   \n",
       "236  2016-06-11 23:48:00        19.53        12.95         30.08   \n",
       "237  2016-06-11 23:54:00        19.51        12.96         30.08   \n",
       "\n",
       "     ST2 -27.5 cm  SM3 -7.5 cm  ST3 -7.5 cm  SM4 -27.5 cm  ST4 -27.5 cm  \\\n",
       "0           11.98        27.06        12.79         34.65         11.91   \n",
       "1           12.03        27.05        12.77         34.65         11.95   \n",
       "2           12.01        27.05        12.77         34.65         11.95   \n",
       "3           12.03        27.05        12.73         34.65         11.98   \n",
       "4           12.02        27.04        12.74         34.65         11.94   \n",
       "..            ...          ...          ...           ...           ...   \n",
       "233         11.89        25.77        12.85         34.26         11.86   \n",
       "234         11.91        25.77        12.81         34.24         11.84   \n",
       "235         11.91        25.76        12.81         34.24         11.84   \n",
       "236         11.93        25.76        12.78         34.24         11.83   \n",
       "237         11.91        25.76        12.77         34.24         11.85   \n",
       "\n",
       "     SM5 -7.5 cm  ST5 -7.5 cm  SM6 -27.5 cm  ST6 -27.5 cm  \n",
       "0          29.77        12.74         43.69         12.05  \n",
       "1          29.77        12.78         43.69         12.07  \n",
       "2          29.76        12.74         43.69         12.05  \n",
       "3          29.76        12.70         43.69         12.05  \n",
       "4          29.75        12.74         43.69         12.04  \n",
       "..           ...          ...           ...           ...  \n",
       "233        28.83        12.72         43.50         11.93  \n",
       "234        28.82        12.74         43.50         11.94  \n",
       "235        28.82        12.70         43.50         11.98  \n",
       "236        28.81        12.70         43.50         11.95  \n",
       "237        28.82        12.72         43.50         11.98  \n",
       "\n",
       "[238 rows x 13 columns]"
      ]
     },
     "execution_count": 96,
     "metadata": {},
     "output_type": "execute_result"
    }
   ],
   "source": [
    "df"
   ]
  },
  {
   "cell_type": "markdown",
   "id": "49e1ebf4",
   "metadata": {},
   "source": [
    "### Duplikate entfernen\n",
    "\n",
    "In diesem Datensatz liegen Fehler in Form von doppelt vergebenen Timestamps vor.  \n",
    "Per Drop-Command können diese entfernet werden:  \n",
    "_df=dr.drop_duplicates(subset='COLUMNNAME', keep='KEEP_FIRST')_  "
   ]
  },
  {
   "cell_type": "code",
   "execution_count": 97,
   "id": "2aeb7fdd",
   "metadata": {},
   "outputs": [],
   "source": [
    "df = df.drop_duplicates(subset='d_t', keep='first')"
   ]
  },
  {
   "cell_type": "markdown",
   "id": "86219a6a",
   "metadata": {},
   "source": [
    "Anders als die zuvor benutzte Filterfunktion werden die Duplikate permanent entfernt.  \n",
    "Das heißt, der Data-Frame wurde verändert."
   ]
  },
  {
   "cell_type": "markdown",
   "id": "b02d258e",
   "metadata": {},
   "source": [
    "## Darstellen der Ergebnisse\n",
    "  \n",
    "#### Plotten der Daten mit Matplotlib  \n",
    "Es gibt mehrere Möglichkeiten, in Matplotlib diverse Diagramme zu erstellen.  \n",
    "Grundsätzlich gilt es allerdings, Diagrammtitel und Achsenbeschriftung **immer** zu benennen.  \n",
    "Vieles ist etwas umständlich gelöst, hier findet man aber schnell Hilfe im Internet, z.B.:  \n",
    "_https://matplotlib.org/stable/tutorials/introductory/sample_plots.html#line-plot_"
   ]
  },
  {
   "cell_type": "markdown",
   "id": "7c66e9c9",
   "metadata": {},
   "source": [
    "### Beispielhafte Schritt für Schritt Anleitung zur Erstellung eines Diagramms mit zwei Y-Achsen\n",
    "\n",
    "Im folgenden werden wir jetzt Schritt für Schritt ein Liniendiagramm zur Darstellung der Bodenfeuchte und Bodentemperatur erstellen.  \n",
    "Zunächst muss das notwendige Matplotlib Package importiert werden, hierbei wird ein Kürzel (_plt_) verwendet:"
   ]
  },
  {
   "cell_type": "code",
   "execution_count": 98,
   "id": "a17315bf",
   "metadata": {},
   "outputs": [],
   "source": [
    "from matplotlib import pyplot as plt"
   ]
  },
  {
   "cell_type": "markdown",
   "id": "89741432",
   "metadata": {},
   "source": [
    "#### Subplots\n",
    "Subplots werden in der Regel verwendet, wenn man mehrere Graphen/Datenreihen in einem Diagramm darstellen möchte.  \n",
    "Dies hat zum Nachteil, dass die Formatierung etwas umfangreicher ausfällt und vieles manuell definiert werden muss:  \n",
    "_BENNUNG_DIAGRAMM, ACHSE1 = plt.subplots(figsize=(BREITE,LÄNGE))_"
   ]
  },
  {
   "cell_type": "code",
   "execution_count": 99,
   "id": "45900c15",
   "metadata": {},
   "outputs": [
    {
     "data": {
      "image/png": "[encoded data removed]",
      "text/plain": [
       "<Figure size 720x360 with 1 Axes>"
      ]
     },
     "metadata": {
      "needs_background": "light"
     },
     "output_type": "display_data"
    }
   ],
   "source": [
    "fig1, ax1 = plt.subplots(figsize=(10,5))"
   ]
  },
  {
   "cell_type": "markdown",
   "id": "18851632",
   "metadata": {},
   "source": [
    "#### Titel\n",
    "Jedes Diagramm braucht einen Titel, dieser kann einfach mit der Methode  \n",
    "_ax1.set_title('TITEL', fontweight='HERVORHEBUNG')_  \n",
    "definiert werden."
   ]
  },
  {
   "cell_type": "code",
   "execution_count": 100,
   "id": "30577e76",
   "metadata": {},
   "outputs": [
    {
     "data": {
      "text/plain": [
       "Text(0.5, 1.0, 'Soil Moisture and Soil Temperature 1 (11.06.2016)')"
      ]
     },
     "execution_count": 100,
     "metadata": {},
     "output_type": "execute_result"
    },
    {
     "data": {
      "image/png": "[encoded data removed]",
      "text/plain": [
       "<Figure size 720x360 with 1 Axes>"
      ]
     },
     "metadata": {
      "needs_background": "light"
     },
     "output_type": "display_data"
    }
   ],
   "source": [
    "fig1, ax1 = plt.subplots(figsize=(10,5))\n",
    "ax1.set_title('Soil Moisture and Soil Temperature 1 (11.06.2016)', fontweight='bold')"
   ]
  },
  {
   "cell_type": "markdown",
   "id": "b260581d",
   "metadata": {},
   "source": [
    "#### Achsenbeschriftung und Plotten der Datenreihe\n",
    "\n",
    "Ähnlich wie der Diagrammtitel können auch die Achsenbeschriftungen mit den Methoden _set_xlabel_ und _set_ylabel_ eingefügt werden.  \n",
    "Mit der Methode _set_xticks_ wird der Timestamp der 0.,118. & 236. Zeile als X-Achsenmarker verwendet.  \n",
    "Das eigentliche Plotten wird mit der Methode _plot(df['SPALTE'],label='ACHSENBESCHRIFTUNG')_ erreicht.  \n",
    "Hier wird noch einmal extra die Achsenbeschriftung eingeführt, damit diese auch später in der Legende erscheint."
   ]
  },
  {
   "cell_type": "code",
   "execution_count": 101,
   "id": "5a0ad78a",
   "metadata": {},
   "outputs": [
    {
     "data": {
      "text/plain": [
       "[<matplotlib.lines.Line2D at 0x266f1515048>]"
      ]
     },
     "execution_count": 101,
     "metadata": {},
     "output_type": "execute_result"
    },
    {
     "data": {
      "image/png": "[encoded data removed]",
      "text/plain": [
       "<Figure size 720x360 with 1 Axes>"
      ]
     },
     "metadata": {
      "needs_background": "light"
     },
     "output_type": "display_data"
    }
   ],
   "source": [
    "fig1, ax1 = plt.subplots(figsize=(10,5))\n",
    "ax1.set_title('Soil Moisture and Soil Temperature 1 (11.06.2016)', fontweight='bold')\n",
    "ax1.set_xlabel('Date [YYYY-MM-DD HH:MM:SS]')\n",
    "ax1.set_ylabel('Soil Moisture [%]')\n",
    "ax1.set_xticks([0,118,236])\n",
    "ax1.plot(df['d_t'],df['SM1 -7.5 cm'], label='Soil Moisture 1 -7.5 cm  [%]')"
   ]
  },
  {
   "cell_type": "markdown",
   "id": "4f040749",
   "metadata": {},
   "source": [
    "#### Hinzufügen der zweiten Y-Achse\n",
    "\n",
    "Mit dem Command _ax2=ax1.twinx()_ wird die Achse1 auf Achse2 kopiert, hiermit erspart man sich doppeltes Formatieren der Achsenbeschriftung etc.  \n",
    "Das Vorgehen erfolgt analog zur ersten Y-Achse."
   ]
  },
  {
   "cell_type": "code",
   "execution_count": 102,
   "id": "6d244151",
   "metadata": {},
   "outputs": [
    {
     "data": {
      "text/plain": [
       "[<matplotlib.lines.Line2D at 0x266f157f0c8>]"
      ]
     },
     "execution_count": 102,
     "metadata": {},
     "output_type": "execute_result"
    },
    {
     "data": {
      "image/png": "[encoded data removed]",
      "text/plain": [
       "<Figure size 720x360 with 2 Axes>"
      ]
     },
     "metadata": {
      "needs_background": "light"
     },
     "output_type": "display_data"
    }
   ],
   "source": [
    "fig1, ax1 = plt.subplots(figsize=(10,5))\n",
    "ax1.set_title('Soil Moisture and Soil Temperature 1 (11.06.2016)', fontweight='bold')\n",
    "ax1.set_xlabel('Date [YYYY-MM-DD HH:MM:SS]')\n",
    "ax1.set_ylabel('Soil Moisture [%]')\n",
    "ax1.set_xticks([0,118,236])\n",
    "ax1.plot(df['d_t'],df['SM1 -7.5 cm'], label='Soil Moisture 1 -7.5 cm  [%]')\n",
    "\n",
    "ax2=ax1.twinx()\n",
    "ax2.set_ylabel('Soil Temperature [°C]')\n",
    "ax2.set_xticks([0,118,236])\n",
    "ax2.plot(df['d_t'],df['ST1 -7.5 cm'], color='red', label='Soil Temperature 1 -7.5 cm  [°C]')\n"
   ]
  },
  {
   "cell_type": "markdown",
   "id": "40642052",
   "metadata": {},
   "source": [
    "#### Legende\n",
    "\n",
    "Zum Schluss benötigt das Diagramm nur noch die Legende. Diese wird mittels der Funktion  \n",
    "_BENENNUNG_DIAGRAMM.legend(bbox_to_anchor=(LEGENDENPOSITION))_ eingefügt."
   ]
  },
  {
   "cell_type": "code",
   "execution_count": 103,
   "id": "fcf45261",
   "metadata": {},
   "outputs": [
    {
     "data": {
      "text/plain": [
       "<matplotlib.legend.Legend at 0x266f17b0788>"
      ]
     },
     "execution_count": 103,
     "metadata": {},
     "output_type": "execute_result"
    },
    {
     "data": {
      "image/png": "[encoded data removed]",
      "text/plain": [
       "<Figure size 720x360 with 2 Axes>"
      ]
     },
     "metadata": {
      "needs_background": "light"
     },
     "output_type": "display_data"
    }
   ],
   "source": [
    "fig1, ax1 = plt.subplots(figsize=(10,5))\n",
    "ax1.set_title('Soil Moisture and Soil Temperature 1 (11.06.2016)', fontweight='bold')\n",
    "ax1.set_xlabel('Date [YYYY-MM-DD HH:MM:SS]')\n",
    "ax1.set_ylabel('Soil Moisture [%]')\n",
    "ax1.set_xticks([0,118,236])\n",
    "ax1.plot(df['d_t'],df['SM1 -7.5 cm'], label='Soil Moisture 1 -7.5 cm  [%]')\n",
    "\n",
    "ax2=ax1.twinx()\n",
    "ax2.set_ylabel('Soil Temperature [°C]')\n",
    "ax2.set_xticks([0,118,236])\n",
    "ax2.plot(df['d_t'],df['ST1 -7.5 cm'], color='red', label='Soil Temperature -7.5 cm  [°C]')\n",
    "fig1.legend(bbox_to_anchor=(0.8,0.45,0.5,0.5))"
   ]
  },
  {
   "cell_type": "markdown",
   "id": "a3e7ee5d",
   "metadata": {},
   "source": [
    "Geschafft! Das Diagramm ist vollständig. Im Folgenden werden analog weitere Diagramme mit anderen Datenreihen erstellt und exportiert.  \n",
    "\n",
    "#### Plotten der Datenreihe 2"
   ]
  },
  {
   "cell_type": "code",
   "execution_count": 104,
   "id": "f68b87f6",
   "metadata": {
    "scrolled": true
   },
   "outputs": [
    {
     "data": {
      "text/plain": [
       "<matplotlib.legend.Legend at 0x266f196c908>"
      ]
     },
     "execution_count": 104,
     "metadata": {},
     "output_type": "execute_result"
    },
    {
     "data": {
      "image/png": "[encoded data removed]",
      "text/plain": [
       "<Figure size 720x360 with 2 Axes>"
      ]
     },
     "metadata": {
      "needs_background": "light"
     },
     "output_type": "display_data"
    }
   ],
   "source": [
    "fig2, ax1 = plt.subplots(figsize=(10,5))\n",
    "\n",
    "ax1.set_title('Soil Moisture and Soil Temperature 2 (11.06.2016)', fontweight='bold')\n",
    "ax1.set_xlabel('Date [YYYY-MM-DD HH:MM:SS]')\n",
    "ax1.set_ylabel('Soil Moisture [%]')\n",
    "ax1.set_xticks([0,118,236])\n",
    "ax1.plot(df['d_t'],df['SM2 -27.5 cm'], label='Soil Moisture 2 -27.5 cm [%]')\n",
    "\n",
    "ax2=ax1.twinx()\n",
    "ax2.set_ylabel('Soil Temperature [°C]')\n",
    "ax2.set_xticks([0,118,236])\n",
    "ax2.plot(df['d_t'],df['ST2 -27.5 cm'], color='red', label='Soil Temperature 2 -27.5 cm [°C]')\n",
    "fig2.legend(bbox_to_anchor=(0.8,0.45,0.5,0.5))"
   ]
  },
  {
   "cell_type": "markdown",
   "id": "cfe71726",
   "metadata": {},
   "source": [
    "### Exportieren der Plots\n",
    "\n",
    "Mittels der Funktion _BENNUNG_DIAGRAMM.savefig('AUSGABEPFAD.DATEIENDUNG',bbox_inches='EXPORTBEREICH')_ können die erstellten Diagramme exportiert werden."
   ]
  },
  {
   "cell_type": "code",
   "execution_count": 105,
   "id": "7cd8f6b3",
   "metadata": {},
   "outputs": [],
   "source": [
    "fig1.savefig(r'C:\\Users\\Florian\\Geo411\\NB\\Aufbereite_Daten_Beg\\SM_ST_1_20160611.jpg', bbox_inches='tight')\n",
    "fig2.savefig(r'C:\\Users\\Florian\\Geo411\\NB\\Aufbereite_Daten_Beg\\SM_ST_2_20160611.jpg', bbox_inches='tight')"
   ]
  }
 ],
 "metadata": {
  "kernelspec": {
   "display_name": "Python 3",
   "language": "python",
   "name": "python3"
  },
  "language_info": {
   "codemirror_mode": {
    "name": "ipython",
    "version": 3
   },
   "file_extension": ".py",
   "mimetype": "text/x-python",
   "name": "python",
   "nbconvert_exporter": "python",
   "pygments_lexer": "ipython3",
   "version": "3.8.10"
  }
 },
 "nbformat": 4,
 "nbformat_minor": 5
}
