{
 "cells": [
  {
   "cell_type": "markdown",
   "id": "9d327b85",
   "metadata": {},
   "source": [
    "# Beispiel für ein Jupyter Notebook"
   ]
  },
  {
   "cell_type": "markdown",
   "id": "c09b6da0",
   "metadata": {},
   "source": [
    "Ein Jupyter Notebook ist zellenweise strukturiert, dies kann zwar auch in einer IDE (Integrierte Entwicklungs Umgebungwie z.B. Spyder oder PyCharm) erreicht werden, ist dort aber deutlich umständlicher. Die Notebooks haben den großen Vorteil der direkten Ausführbarkeit und Visualisierung der ausgeführten Zellen. Diese Zellenstruktur birgt allerdings gerade bei umfangreicheren ineinander verschachtelten Skripten auch Nachteile, beispielsweise führt eine nachträgliche Ineinanderschachtelung zum Verlust dieser Zellenstruktur."
   ]
  },
  {
   "cell_type": "code",
   "execution_count": 1,
   "id": "e157e851",
   "metadata": {},
   "outputs": [
    {
     "name": "stdout",
     "output_type": "stream",
     "text": [
      "Hello World\n"
     ]
    }
   ],
   "source": [
    "print(\"Hello World\")"
   ]
  },
  {
   "cell_type": "markdown",
   "id": "3fa0f012",
   "metadata": {},
   "source": [
    "Ein anderer Vorteil ist die Integration von Markdown-Text, dadurch können Jupyter Notebooks übersichtlicher mit Text versehen und deutlich besser dokumentiert werden."
   ]
  },
  {
   "cell_type": "markdown",
   "id": "44a34dd5",
   "metadata": {},
   "source": [
    "# Überschrift 1  \n",
    "## Überschrift 2  \n",
    "### Überschrift 3  \n",
    "  \n",
    "Als Zeilenumbruch müssen zwei Leerzeichen am Ende der Zeile stehen...\n",
    "  \n",
    "_kursiv_  \n",
    "**fett** \n",
    "  \n",
    "Auch Stichpunkte können angeführt werden:  \n",
    "1. Nummeriert\n",
    "- Einfaches Zeichen"
   ]
  }
 ],
 "metadata": {
  "kernelspec": {
   "display_name": "Python 3",
   "language": "python",
   "name": "python3"
  },
  "language_info": {
   "codemirror_mode": {
    "name": "ipython",
    "version": 3
   },
   "file_extension": ".py",
   "mimetype": "text/x-python",
   "name": "python",
   "nbconvert_exporter": "python",
   "pygments_lexer": "ipython3",
   "version": "3.8.10"
  }
 },
 "nbformat": 4,
 "nbformat_minor": 5
}
